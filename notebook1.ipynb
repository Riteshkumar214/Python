{
 "cells": [
  {
   "cell_type": "code",
   "execution_count": 3,
   "id": "bf5a4448-fe43-48e9-95b2-d2f1ca15fc69",
   "metadata": {},
   "outputs": [
    {
     "name": "stdout",
     "output_type": "stream",
     "text": [
      "Hello, World!\n"
     ]
    }
   ],
   "source": [
    "#Printing a String\n",
    "print(\"Hello, World!\")"
   ]
  },
  {
   "cell_type": "code",
   "execution_count": 1,
   "id": "7a8a42cf-69ae-4128-b1f4-192582a2bb2c",
   "metadata": {},
   "outputs": [
    {
     "name": "stdout",
     "output_type": "stream",
     "text": [
      "given number is positive\n"
     ]
    }
   ],
   "source": [
    "# Program to check if a number is positive or negative\n",
    "x=5\n",
    "if x>=0:\n",
    "    print(\"given number is positive\")\n",
    "else:\n",
    "    print(\"given number is negative\")"
   ]
  },
  {
   "cell_type": "code",
   "execution_count": 10,
   "id": "d40bc527-1a14-406c-a9a1-387d01299ec2",
   "metadata": {},
   "outputs": [
    {
     "name": "stdin",
     "output_type": "stream",
     "text": [
      "Enter your age: 19\n"
     ]
    },
    {
     "name": "stdout",
     "output_type": "stream",
     "text": [
      "eligible to vote\n"
     ]
    }
   ],
   "source": [
    "# Program to check if a person is eligible to vote based on their age\n",
    "age=float(input('Enter your age:'))\n",
    "if age>=18:\n",
    "    print(\"eligible to vote\")\n",
    "else:\n",
    "    print(\"not eligible to vote\")"
   ]
  },
  {
   "cell_type": "code",
   "execution_count": 9,
   "id": "c5619d1b-8bb9-46ec-b2c3-854f51cea06f",
   "metadata": {},
   "outputs": [
    {
     "name": "stdin",
     "output_type": "stream",
     "text": [
      "Enter your score: 85\n"
     ]
    },
    {
     "name": "stdout",
     "output_type": "stream",
     "text": [
      "grade is B+\n"
     ]
    }
   ],
   "source": [
    "# Program to categorize a student's grade based on their test score\n",
    "score=float(input('Enter your score:'))\n",
    "\n",
    "if score>=90:\n",
    "    print(\"grade is A+\")\n",
    "\n",
    "elif 80<score<90:\n",
    "    print(\"grade is B+\")\n",
    "\n",
    "elif 65<=score<80:\n",
    "    print(\"grade is c+\")\n",
    "\n",
    "else:\n",
    "    print(\"grade is F\")"
   ]
  },
  {
   "cell_type": "code",
   "execution_count": 2,
   "id": "3a6f08fd-0254-4aa5-962f-dabfb9e0ee2a",
   "metadata": {},
   "outputs": [
    {
     "name": "stdin",
     "output_type": "stream",
     "text": [
      "Enter your x: 55\n"
     ]
    },
    {
     "name": "stdout",
     "output_type": "stream",
     "text": [
      "odd and positive\n"
     ]
    }
   ],
   "source": [
    "# Program to check if a given number is:\n",
    "# 1. Even and positive\n",
    "# 2. Even and negative\n",
    "# 3. Odd and positive\n",
    "# 4. Odd and negative\n",
    "\n",
    "x=int(input(\"Enter your x:\"))\n",
    "\n",
    "if x>0:\n",
    "    if x%2==0:\n",
    "        print(\"even and positive\")\n",
    "    else:\n",
    "        print(\"odd and positive\")\n",
    "\n",
    "elif x<0:\n",
    "    if x%2==0:\n",
    "        print(\"even and negative\")\n",
    "    else:\n",
    "        print(\"odd and negative\")\n",
    "    "
   ]
  },
  {
   "cell_type": "code",
   "execution_count": 13,
   "id": "20a77290-0320-4ae3-9f11-00c7157bbc0a",
   "metadata": {},
   "outputs": [
    {
     "name": "stdin",
     "output_type": "stream",
     "text": [
      "Enter your color: Red\n"
     ]
    },
    {
     "name": "stdout",
     "output_type": "stream",
     "text": [
      "your favourite color is : Red.\n"
     ]
    }
   ],
   "source": [
    "# Program that asks the user for their favorite color\n",
    "color=input(\"Enter your color:\")\n",
    "print(f\"your favourite color is : {color}.\")"
   ]
  },
  {
   "cell_type": "markdown",
   "id": "0ad8fc47-0213-4a15-b3c0-a9b70abdadfe",
   "metadata": {},
   "source": [
    "Write a Python program that uses a for loop to reverse a given string and prints the reversed string.\n"
   ]
  },
  {
   "cell_type": "code",
   "execution_count": 15,
   "id": "2a818462-6eb3-4e45-a400-46b80f8d42a9",
   "metadata": {},
   "outputs": [
    {
     "name": "stdin",
     "output_type": "stream",
     "text": [
      "Enter a string to reverse:  Ritesh\n"
     ]
    },
    {
     "name": "stdout",
     "output_type": "stream",
     "text": [
      "Reversed string: hsetiR\n"
     ]
    }
   ],
   "source": [
    "# Program that uses a for loop to reverse a given string \n",
    "\n",
    "input_string = input(\"Enter a string to reverse: \")\n",
    "reversed_string = \"\"\n",
    "\n",
    "for char in input_string:\n",
    "    reversed_string = char + reversed_string\n",
    "\n",
    "print(\"Reversed string:\", reversed_string)"
   ]
  },
  {
   "cell_type": "code",
   "execution_count": 20,
   "id": "4de8c6ef-c29e-4a73-a545-3f03ee038a5b",
   "metadata": {},
   "outputs": [
    {
     "name": "stdin",
     "output_type": "stream",
     "text": [
      "enter a string: Ritesh\n"
     ]
    },
    {
     "name": "stdout",
     "output_type": "stream",
     "text": [
      "Reversed string: hsetiR\n"
     ]
    }
   ],
   "source": [
    "string = input(\"enter a string:\")\n",
    "reversed_string=\"\"\n",
    "for i in range(len(string)-1,-1,-1):\n",
    "    reversed_string += string[i]\n",
    "print(\"Reversed string:\",reversed_string)"
   ]
  },
  {
   "cell_type": "code",
   "execution_count": 29,
   "id": "64c633bd-bba4-420f-aa5a-e9e6938a2a4e",
   "metadata": {},
   "outputs": [
    {
     "name": "stdin",
     "output_type": "stream",
     "text": [
      "enter a string RITESH\n"
     ]
    },
    {
     "name": "stdout",
     "output_type": "stream",
     "text": [
      "H\n",
      "S\n",
      "E\n",
      "T\n",
      "I\n",
      "R\n"
     ]
    }
   ],
   "source": [
    "string = input(\"enter a string\")\n",
    "for i in range(len(string)):\n",
    "    i=len(string) -i -1\n",
    "    print(string[i])"
   ]
  },
  {
   "cell_type": "code",
   "execution_count": 1,
   "id": "d7f0b03b-e366-4d28-af28-c165e9ea12a7",
   "metadata": {},
   "outputs": [
    {
     "name": "stdin",
     "output_type": "stream",
     "text": [
      "enter your n: 5\n"
     ]
    },
    {
     "name": "stdout",
     "output_type": "stream",
     "text": [
      "    *\n",
      "   ***\n",
      "  *****\n",
      " *******\n",
      "*********\n",
      " *******\n",
      "  *****\n",
      "   ***\n",
      "    *\n"
     ]
    }
   ],
   "source": [
    "# Program that uses nested for loops to print a diamond pattern of asterisks\n",
    "n = int(input(\"enter your n:\")) \n",
    "for i in range(1, 2 * n):  # loop from 1 to 10\n",
    "    stars = 2 * i - 1 if i <= n else 2 * (2 * n - i) - 1\n",
    "    spaces = n - i if i <= n else i - n\n",
    "    print(\" \" * spaces + \"*\" * stars)\n"
   ]
  },
  {
   "cell_type": "code",
   "execution_count": 7,
   "id": "14366dc2-c61b-43ee-a8a6-2ad930a5f976",
   "metadata": {},
   "outputs": [
    {
     "name": "stdout",
     "output_type": "stream",
     "text": [
      "1 x 1 =1\t1 x 2 =2\t1 x 3 =3\t1 x 4 =4\t1 x 5 =5\t1 x 6 =6\t1 x 7 =7\t1 x 8 =8\t1 x 9 =9\t1 x 10 =10\t\n",
      "2 x 1 =2\t2 x 2 =4\t2 x 3 =6\t2 x 4 =8\t2 x 5 =10\t2 x 6 =12\t2 x 7 =14\t2 x 8 =16\t2 x 9 =18\t2 x 10 =20\t\n",
      "3 x 1 =3\t3 x 2 =6\t3 x 3 =9\t3 x 4 =12\t3 x 5 =15\t3 x 6 =18\t3 x 7 =21\t3 x 8 =24\t3 x 9 =27\t3 x 10 =30\t\n",
      "4 x 1 =4\t4 x 2 =8\t4 x 3 =12\t4 x 4 =16\t4 x 5 =20\t4 x 6 =24\t4 x 7 =28\t4 x 8 =32\t4 x 9 =36\t4 x 10 =40\t\n",
      "5 x 1 =5\t5 x 2 =10\t5 x 3 =15\t5 x 4 =20\t5 x 5 =25\t5 x 6 =30\t5 x 7 =35\t5 x 8 =40\t5 x 9 =45\t5 x 10 =50\t\n",
      "6 x 1 =6\t6 x 2 =12\t6 x 3 =18\t6 x 4 =24\t6 x 5 =30\t6 x 6 =36\t6 x 7 =42\t6 x 8 =48\t6 x 9 =54\t6 x 10 =60\t\n",
      "7 x 1 =7\t7 x 2 =14\t7 x 3 =21\t7 x 4 =28\t7 x 5 =35\t7 x 6 =42\t7 x 7 =49\t7 x 8 =56\t7 x 9 =63\t7 x 10 =70\t\n",
      "8 x 1 =8\t8 x 2 =16\t8 x 3 =24\t8 x 4 =32\t8 x 5 =40\t8 x 6 =48\t8 x 7 =56\t8 x 8 =64\t8 x 9 =72\t8 x 10 =80\t\n",
      "9 x 1 =9\t9 x 2 =18\t9 x 3 =27\t9 x 4 =36\t9 x 5 =45\t9 x 6 =54\t9 x 7 =63\t9 x 8 =72\t9 x 9 =81\t9 x 10 =90\t\n",
      "10 x 1 =10\t10 x 2 =20\t10 x 3 =30\t10 x 4 =40\t10 x 5 =50\t10 x 6 =60\t10 x 7 =70\t10 x 8 =80\t10 x 9 =90\t10 x 10 =100\t\n"
     ]
    }
   ],
   "source": [
    "#Program that uses nested while loops to generate \n",
    "# and print a multiplication table for numbers from 1 to 10\n",
    "i =1\n",
    "while i<=10:\n",
    "    j=1\n",
    "    while j<=10:\n",
    "        product=i*j\n",
    "        print(f\"{i} x {j} ={product}\", end =\"\\t\")\n",
    "        j+=1\n",
    "    print()\n",
    "    i+=1        "
   ]
  },
  {
   "cell_type": "code",
   "execution_count": 8,
   "id": "7d241c41-fce6-46a8-8bc2-659388202935",
   "metadata": {},
   "outputs": [
    {
     "name": "stdout",
     "output_type": "stream",
     "text": [
      "1x1=1\t1x2=2\t1x3=3\t1x4=4\t1x5=5\t1x6=6\t1x7=7\t1x8=8\t1x9=9\t1x10=10\t\n",
      "\n",
      "2x1=2\t2x2=4\t2x3=6\t2x4=8\t2x5=10\t2x6=12\t2x7=14\t2x8=16\t2x9=18\t2x10=20\t\n",
      "\n",
      "3x1=3\t3x2=6\t3x3=9\t3x4=12\t3x5=15\t3x6=18\t3x7=21\t3x8=24\t3x9=27\t3x10=30\t\n",
      "\n",
      "4x1=4\t4x2=8\t4x3=12\t4x4=16\t4x5=20\t4x6=24\t4x7=28\t4x8=32\t4x9=36\t4x10=40\t\n",
      "\n",
      "5x1=5\t5x2=10\t5x3=15\t5x4=20\t5x5=25\t5x6=30\t5x7=35\t5x8=40\t5x9=45\t5x10=50\t\n",
      "\n",
      "6x1=6\t6x2=12\t6x3=18\t6x4=24\t6x5=30\t6x6=36\t6x7=42\t6x8=48\t6x9=54\t6x10=60\t\n",
      "\n",
      "7x1=7\t7x2=14\t7x3=21\t7x4=28\t7x5=35\t7x6=42\t7x7=49\t7x8=56\t7x9=63\t7x10=70\t\n",
      "\n",
      "8x1=8\t8x2=16\t8x3=24\t8x4=32\t8x5=40\t8x6=48\t8x7=56\t8x8=64\t8x9=72\t8x10=80\t\n",
      "\n",
      "9x1=9\t9x2=18\t9x3=27\t9x4=36\t9x5=45\t9x6=54\t9x7=63\t9x8=72\t9x9=81\t9x10=90\t\n",
      "\n",
      "10x1=10\t10x2=20\t10x3=30\t10x4=40\t10x5=50\t10x6=60\t10x7=70\t10x8=80\t10x9=90\t10x10=100\t\n",
      "\n"
     ]
    }
   ],
   "source": [
    "for i in range (1,11):\n",
    "    for j in range (1,11):\n",
    "        product=i*j\n",
    "        print(f\"{i}x{j}={product}\",end=\"\\t\")\n",
    "    print(\"\\n\")"
   ]
  },
  {
   "cell_type": "markdown",
   "id": "bf0db105-2bc7-4aae-a13b-c2fa9aef62d8",
   "metadata": {},
   "source": [
    "Write a Python program that uses a for loop to calculate and print the average score of students from a dictionary of scores.\n"
   ]
  },
  {
   "cell_type": "code",
   "execution_count": 24,
   "id": "37112088-b2f1-4439-a0f3-3a8fb44e1e2b",
   "metadata": {},
   "outputs": [
    {
     "name": "stdout",
     "output_type": "stream",
     "text": [
      "Average score of students :75.50\n"
     ]
    }
   ],
   "source": [
    "# Program that uses a for loop to calculate and print \n",
    "# the average score of students from a dictionary of scores\n",
    "\n",
    "student_info={'ankit':85,'ritesh':65,'abhinav':55,'rahul':97} \n",
    "total_score=0\n",
    "for name ,score  in student_info.items():\n",
    "    total_score += score\n",
    "print(f\"Average score of students :{total_score/len(student_info):.2f}\")\n"
   ]
  },
  {
   "cell_type": "code",
   "execution_count": 11,
   "id": "af53c2a6-c33e-42d8-8d7c-8fb930a02aa5",
   "metadata": {},
   "outputs": [
    {
     "name": "stdin",
     "output_type": "stream",
     "text": [
      "Enter the password:  ········\n",
      "Enter the password:  1555\n"
     ]
    },
    {
     "name": "stdout",
     "output_type": "stream",
     "text": [
      "access denied.try again\n"
     ]
    },
    {
     "name": "stdin",
     "output_type": "stream",
     "text": [
      "Enter the password:  1556\n"
     ]
    },
    {
     "name": "stdout",
     "output_type": "stream",
     "text": [
      "Access granted.\n"
     ]
    }
   ],
   "source": [
    "#Program that asks the user to set a password \n",
    "\n",
    "import getpass\n",
    "correct_password = getpass.getpass(\"Enter the password: \")\n",
    "max_attempt=3\n",
    "for i in range (max_attempt):\n",
    "    guess = input(\"Enter the password: \")\n",
    "    if guess == correct_password:\n",
    "        print(\"Access granted.\")\n",
    "        \n",
    "    else:\n",
    "        print(\"access denied.try again\")\n",
    "        \n"
   ]
  }
 ],
 "metadata": {
  "kernelspec": {
   "display_name": "Python 3 (ipykernel)",
   "language": "python",
   "name": "python3"
  },
  "language_info": {
   "codemirror_mode": {
    "name": "ipython",
    "version": 3
   },
   "file_extension": ".py",
   "mimetype": "text/x-python",
   "name": "python",
   "nbconvert_exporter": "python",
   "pygments_lexer": "ipython3",
   "version": "3.12.10"
  }
 },
 "nbformat": 4,
 "nbformat_minor": 5
}
